{
 "cells": [
  {
   "cell_type": "code",
   "execution_count": 1,
   "metadata": {},
   "outputs": [
    {
     "name": "stderr",
     "output_type": "stream",
     "text": [
      "c:\\Users\\parth\\anaconda3\\envs\\cs246helper\\Lib\\site-packages\\tqdm\\auto.py:21: TqdmWarning: IProgress not found. Please update jupyter and ipywidgets. See https://ipywidgets.readthedocs.io/en/stable/user_install.html\n",
      "  from .autonotebook import tqdm as notebook_tqdm\n"
     ]
    },
    {
     "ename": "ModuleNotFoundError",
     "evalue": "No module named 'dotenv'",
     "output_type": "error",
     "traceback": [
      "\u001b[1;31m---------------------------------------------------------------------------\u001b[0m",
      "\u001b[1;31mModuleNotFoundError\u001b[0m                       Traceback (most recent call last)",
      "Cell \u001b[1;32mIn[1], line 3\u001b[0m\n\u001b[0;32m      1\u001b[0m \u001b[38;5;28;01mfrom\u001b[39;00m \u001b[38;5;21;01munstructured\u001b[39;00m\u001b[38;5;21;01m.\u001b[39;00m\u001b[38;5;21;01mpartition\u001b[39;00m\u001b[38;5;21;01m.\u001b[39;00m\u001b[38;5;21;01mpdf\u001b[39;00m \u001b[38;5;28;01mimport\u001b[39;00m partition_pdf\n\u001b[0;32m      2\u001b[0m \u001b[38;5;28;01mimport\u001b[39;00m \u001b[38;5;21;01mos\u001b[39;00m\n\u001b[1;32m----> 3\u001b[0m \u001b[38;5;28;01mfrom\u001b[39;00m \u001b[38;5;21;01mdotenv\u001b[39;00m \u001b[38;5;28;01mimport\u001b[39;00m load_dotenv\n",
      "\u001b[1;31mModuleNotFoundError\u001b[0m: No module named 'dotenv'"
     ]
    }
   ],
   "source": [
    "from unstructured.partition.pdf import partition_pdf"
   ]
  },
  {
   "cell_type": "code",
   "execution_count": 28,
   "metadata": {},
   "outputs": [],
   "source": [
    "unstructured_api_key = os.getenv('unstructured_api_key')"
   ]
  },
  {
   "cell_type": "code",
   "execution_count": 30,
   "metadata": {},
   "outputs": [
    {
     "name": "stdout",
     "output_type": "stream",
     "text": [
      "None\n"
     ]
    }
   ],
   "source": [
    "print(unstructured_api_key)"
   ]
  },
  {
   "cell_type": "code",
   "execution_count": 10,
   "metadata": {},
   "outputs": [],
   "source": [
    "filename = '138_midterm.pdf'\n",
    "raw_elements = partition_pdf(\n",
    "    filename=filename,\n",
    "    strategy='hi_res'\n",
    ")"
   ]
  },
  {
   "cell_type": "code",
   "execution_count": 18,
   "metadata": {},
   "outputs": [
    {
     "data": {
      "text/plain": [
       "[<unstructured.documents.elements.Header at 0x2890628c1d0>,\n",
       " <unstructured.documents.elements.Header at 0x2890632ade0>,\n",
       " <unstructured.documents.elements.Title at 0x28906329520>,\n",
       " <unstructured.documents.elements.ListItem at 0x289108ca810>,\n",
       " <unstructured.documents.elements.ListItem at 0x28906328f20>,\n",
       " <unstructured.documents.elements.ListItem at 0x289063283b0>,\n",
       " <unstructured.documents.elements.ListItem at 0x289108cb0e0>,\n",
       " <unstructured.documents.elements.ListItem at 0x28910920410>,\n",
       " <unstructured.documents.elements.ListItem at 0x28910a085c0>,\n",
       " <unstructured.documents.elements.Title at 0x289103369f0>,\n",
       " <unstructured.documents.elements.Text at 0x28910997890>,\n",
       " <unstructured.documents.elements.ListItem at 0x289103353a0>,\n",
       " <unstructured.documents.elements.Title at 0x2890632a7e0>,\n",
       " <unstructured.documents.elements.NarrativeText at 0x289103377a0>,\n",
       " <unstructured.documents.elements.Formula at 0x28910334530>,\n",
       " <unstructured.documents.elements.NarrativeText at 0x28910337170>,\n",
       " <unstructured.documents.elements.Formula at 0x28910337fb0>,\n",
       " <unstructured.documents.elements.NarrativeText at 0x28913707e90>,\n",
       " <unstructured.documents.elements.NarrativeText at 0x289063aa3c0>,\n",
       " <unstructured.documents.elements.Header at 0x28913704e60>,\n",
       " <unstructured.documents.elements.ListItem at 0x28913704c80>,\n",
       " <unstructured.documents.elements.ListItem at 0x28913707cb0>,\n",
       " <unstructured.documents.elements.Text at 0x289102975f0>,\n",
       " <unstructured.documents.elements.Text at 0x2891226d820>,\n",
       " <unstructured.documents.elements.Text at 0x289063e9940>,\n",
       " <unstructured.documents.elements.ListItem at 0x28913704050>,\n",
       " <unstructured.documents.elements.Text at 0x289102a7f20>,\n",
       " <unstructured.documents.elements.Text at 0x2890628f920>,\n",
       " <unstructured.documents.elements.Title at 0x289063f0500>,\n",
       " <unstructured.documents.elements.Title at 0x289063f3e30>,\n",
       " <unstructured.documents.elements.ListItem at 0x28913704cb0>,\n",
       " <unstructured.documents.elements.Text at 0x289063f0d10>,\n",
       " <unstructured.documents.elements.Text at 0x289063f1160>,\n",
       " <unstructured.documents.elements.ListItem at 0x28913705010>,\n",
       " <unstructured.documents.elements.ListItem at 0x289137066f0>,\n",
       " <unstructured.documents.elements.ListItem at 0x28913705070>,\n",
       " <unstructured.documents.elements.Text at 0x289063f3b60>,\n",
       " <unstructured.documents.elements.Text at 0x289014963f0>,\n",
       " <unstructured.documents.elements.ListItem at 0x289137068a0>,\n",
       " <unstructured.documents.elements.NarrativeText at 0x28906261f10>,\n",
       " <unstructured.documents.elements.Text at 0x28906260b00>,\n",
       " <unstructured.documents.elements.Title at 0x2890632bfb0>,\n",
       " <unstructured.documents.elements.ListItem at 0x28913706c90>,\n",
       " <unstructured.documents.elements.Image at 0x28913706e40>,\n",
       " <unstructured.documents.elements.NarrativeText at 0x28901529df0>,\n",
       " <unstructured.documents.elements.ListItem at 0x28913705490>,\n",
       " <unstructured.documents.elements.Text at 0x28906260da0>,\n",
       " <unstructured.documents.elements.NarrativeText at 0x28913705610>]"
      ]
     },
     "execution_count": 18,
     "metadata": {},
     "output_type": "execute_result"
    }
   ],
   "source": [
    "raw_elements"
   ]
  },
  {
   "cell_type": "code",
   "execution_count": 24,
   "metadata": {},
   "outputs": [
    {
     "name": "stdout",
     "output_type": "stream",
     "text": [
      "Cat: I pulled out the 3 and used an integral table:\n",
      "Goose: I used the substitution u = 3x. Then du = 3dx, so dx = 1 of an integral table we see that: 3du, and with the help\n",
      "The cat and the goose start ﬁghting because their answers are diﬀerent. Consider the\n",
      "following 4 statements: (a) The cat has the correct answer and the goose has the incorrect answer. (b) The cat has the incorrect answer and the goose has the correct answer. (c) The cat and the goose both have the incorrect answer. (d) The cat and the goose both have the correct answer. Which of the above 4 statements is true? If your answer is (a), (b), or (c), explain the mistake(s) made by the cat and/or goose. If your answer is (d), explain how this is possible even though their answers are diﬀerent.\n",
      "1 6 do partial fractions with 4 unknowns on the midterm. I was telling the truth. ]\n",
      "(a) (2 marks) Express V as an integral (or sum of integrals) using the method of disks (some sources call this the method of washers, though our course notes do not). (b) (2 marks) Express V as an integral (or sum of integrals) using the method of shells. (c) (1 marks) Prove that V ≤ 70π.\n",
      "Express xf (x) dx in terms of f (1), f (2), and any other real numbers. [It is possible to 1 determine f (x) by solving a diﬀerential equation. Do NOT do this.]\n"
     ]
    }
   ],
   "source": [
    "for element in raw_elements:\n",
    "    if isinstance(element, unstructured.documents.elements.NarrativeText): \n",
    "        print(element)"
   ]
  }
 ],
 "metadata": {
  "kernelspec": {
   "display_name": "Python 3",
   "language": "python",
   "name": "python3"
  },
  "language_info": {
   "codemirror_mode": {
    "name": "ipython",
    "version": 3
   },
   "file_extension": ".py",
   "mimetype": "text/x-python",
   "name": "python",
   "nbconvert_exporter": "python",
   "pygments_lexer": "ipython3",
   "version": "3.12.4"
  }
 },
 "nbformat": 4,
 "nbformat_minor": 2
}
